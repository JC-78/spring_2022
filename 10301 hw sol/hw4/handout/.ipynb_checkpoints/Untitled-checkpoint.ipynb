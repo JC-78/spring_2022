{
 "cells": [
  {
   "cell_type": "code",
   "execution_count": 9,
   "id": "17d8cc30",
   "metadata": {},
   "outputs": [],
   "source": [
    "import matplotlib.pyplot as plt\n",
    "import numpy as np\n",
    "\n",
    "model1=np.zeros(5000,dtype=np.float32)\n",
    "model2=np.zeros(5000,dtype=np.float32)\n",
    "model3=np.zeros(5000,dtype=np.float32)\n",
    "\n",
    "\n",
    "with open('model 1 validation txt') as f:\n",
    "    lines = f.readlines()\n",
    "    \n",
    "with open('model 2 validation txt') as f:\n",
    "    lines1 = f.readlines()\n",
    "\n",
    "with open('model3_val_nll.txt') as f:\n",
    "    lines2 = f.readlines()\n",
    "\n"
   ]
  },
  {
   "cell_type": "code",
   "execution_count": null,
   "id": "c3dd403b",
   "metadata": {},
   "outputs": [],
   "source": [
    "for i in range(5000):\n",
    "    model1[i]=lines[i]\n",
    "    model2[i]=lines1[i]\n",
    "    model3[i]=lines2[i].split(\" \")[1]"
   ]
  },
  {
   "cell_type": "code",
   "execution_count": 10,
   "id": "a11b0c17",
   "metadata": {},
   "outputs": [
    {
     "name": "stdout",
     "output_type": "stream",
     "text": [
      "0.6923704817703618\n",
      "\n",
      "0.6923704817703618\n"
     ]
    }
   ],
   "source": [
    "print(lines[0])\n",
    "print(lines[0][:-1])\n",
    "\n",
    "print(lines1[0])\n",
    "print(lines1[0][:-1])\n",
    "\n",
    "print(lines2[0].split(\" \")[1])"
   ]
  },
  {
   "cell_type": "code",
   "execution_count": null,
   "id": "1f2892ca",
   "metadata": {},
   "outputs": [],
   "source": []
  },
  {
   "cell_type": "code",
   "execution_count": null,
   "id": "b08b08fa",
   "metadata": {},
   "outputs": [],
   "source": [
    "num_epoch=5000\n",
    "x = np.linspace(0, num_epoch - 1,num_epoch)\n",
    "plt.xlabel(\"Epochs\")\n",
    "plt.ylabel(\"Negative Log Likelihood\")\n",
    "plt.plot(x[:5000], model1[:5000], \"r\", linewidth = 3.0, label = \"Model1\")\n",
    "plt.plot(x[:5000], model2[:5000], \"b\", linewidth = 3.0, label = \"Model2\")\n",
    "plt.plot(x[:5000], model3[:5000], \"b\", linewidth = 3.0, label = \"Model3\")\n",
    "plt.legend(loc='upper right')\n",
    "plt.show()"
   ]
  }
 ],
 "metadata": {
  "kernelspec": {
   "display_name": "Python 3.9.5 64-bit",
   "language": "python",
   "name": "python39564bit06fbe3f897f84088966ece48ea4b4239"
  },
  "language_info": {
   "codemirror_mode": {
    "name": "ipython",
    "version": 3
   },
   "file_extension": ".py",
   "mimetype": "text/x-python",
   "name": "python",
   "nbconvert_exporter": "python",
   "pygments_lexer": "ipython3",
   "version": "3.9.5"
  }
 },
 "nbformat": 4,
 "nbformat_minor": 5
}
